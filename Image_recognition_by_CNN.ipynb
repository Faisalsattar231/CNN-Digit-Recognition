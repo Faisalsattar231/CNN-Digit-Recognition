{
  "cells": [
    {
      "cell_type": "markdown",
      "metadata": {
        "id": "view-in-github",
        "colab_type": "text"
      },
      "source": [
        "<a href=\"https://colab.research.google.com/github/faislayy/CNN-Digit-Recognition/blob/main/Image_recognition_by_CNN.ipynb\" target=\"_parent\"><img src=\"https://colab.research.google.com/assets/colab-badge.svg\" alt=\"Open In Colab\"/></a>"
      ]
    },
    {
      "cell_type": "code",
      "execution_count": 1,
      "metadata": {
        "id": "vX8yHJe8hIai"
      },
      "outputs": [],
      "source": [
        "import numpy as np\n",
        "import pandas as ps\n",
        "import tensorflow as tf\n",
        "from tensorflow import keras"
      ]
    },
    {
      "cell_type": "code",
      "execution_count": 2,
      "metadata": {
        "id": "ljWPUhhChhky"
      },
      "outputs": [],
      "source": [
        "from keras.datasets import mnist\n",
        "from keras.utils import to_categorical\n",
        "from keras.models import Sequential"
      ]
    },
    {
      "cell_type": "code",
      "execution_count": 3,
      "metadata": {
        "id": "-HPgVuVkhlGa",
        "colab": {
          "base_uri": "https://localhost:8080/"
        },
        "outputId": "0baa6c7f-f6b6-4069-c0db-100cdcd7a01b"
      },
      "outputs": [
        {
          "output_type": "stream",
          "name": "stdout",
          "text": [
            "Downloading data from https://storage.googleapis.com/tensorflow/tf-keras-datasets/mnist.npz\n",
            "11490434/11490434 [==============================] - 0s 0us/step\n"
          ]
        }
      ],
      "source": [
        "(X_train, Y_train), (X_test, Y_test) = mnist.load_data()"
      ]
    },
    {
      "cell_type": "code",
      "execution_count": 4,
      "metadata": {
        "colab": {
          "base_uri": "https://localhost:8080/",
          "height": 136
        },
        "id": "FoWNltDYh0Zx",
        "outputId": "99dc42d0-589c-4033-ca64-d10f39f92882"
      },
      "outputs": [
        {
          "output_type": "display_data",
          "data": {
            "text/plain": [
              "<Figure size 2000x400 with 10 Axes>"
            ],
            "image/png": "[encoded data removed]"
          },
          "metadata": {}
        }
      ],
      "source": [
        "import matplotlib.pyplot as plt\n",
        "\n",
        "n=10\n",
        "\n",
        "plt.figure(figsize=(20,4))\n",
        "\n",
        "for i in range(n):\n",
        "    ax = plt.subplot(2,n,i+1)\n",
        "    plt.imshow(X_test[i].reshape(28,28))\n",
        "\n",
        "    plt.gray()\n",
        "\n",
        "    ax.get_xaxis().set_visible(False)\n",
        "    ax.get_yaxis().set_visible(False)\n",
        "\n",
        "\n",
        "plt.show()\n",
        "plt.close()"
      ]
    },
    {
      "cell_type": "code",
      "execution_count": 5,
      "metadata": {
        "colab": {
          "base_uri": "https://localhost:8080/"
        },
        "id": "s_-QQaCwjmIc",
        "outputId": "61fcda3d-9b86-4adf-d2bd-6aa007ef6a46"
      },
      "outputs": [
        {
          "output_type": "stream",
          "name": "stdout",
          "text": [
            "X_train shape: (60000, 28, 28)\n",
            "X_test shape: (10000, 28, 28)\n",
            "Y_train shape: (60000,)\n",
            "Y_test shape: (10000,)\n"
          ]
        }
      ],
      "source": [
        "print(\"X_train shape: {}\".format(X_train.shape))\n",
        "print(\"X_test shape: {}\".format(X_test.shape))\n",
        "print(\"Y_train shape: {}\".format(Y_train.shape))\n",
        "print(\"Y_test shape: {}\".format(Y_test.shape))"
      ]
    },
    {
      "cell_type": "code",
      "execution_count": 6,
      "metadata": {
        "id": "-AMjYpeKltfj"
      },
      "outputs": [],
      "source": [
        "X_train =X_train.reshape(X_train.shape[0],28,28,1)\n",
        "X_test = X_test.reshape(X_test.shape[0],28,28,1)"
      ]
    },
    {
      "cell_type": "code",
      "execution_count": 7,
      "metadata": {
        "id": "82KWFAYDpAFu"
      },
      "outputs": [],
      "source": [
        "X_train = X_train.astype(\"float32\")\n",
        "X_test = X_test.astype(\"float32\")\n",
        "\n",
        "X_train /= 255\n",
        "X_test /= 255"
      ]
    },
    {
      "cell_type": "code",
      "execution_count": 8,
      "metadata": {
        "id": "i7DXvmKtpTjY"
      },
      "outputs": [],
      "source": [
        "from keras.utils import to_categorical\n",
        "\n",
        "Y_train = to_categorical(Y_train, num_classes=10)\n",
        "Y_test = to_categorical(Y_test, num_classes=10)"
      ]
    },
    {
      "cell_type": "code",
      "execution_count": 9,
      "metadata": {
        "colab": {
          "base_uri": "https://localhost:8080/"
        },
        "id": "33Kh1iQyrTwF",
        "outputId": "c1a5d278-b7d7-4e1d-93e7-4501e9021724"
      },
      "outputs": [
        {
          "output_type": "stream",
          "name": "stdout",
          "text": [
            "X_train shape: (60000, 28, 28, 1)\n",
            "X_test shape: (10000, 28, 28, 1)\n",
            "Y_train shape: (60000, 10)\n",
            "Y_test shape: (10000, 10)\n"
          ]
        }
      ],
      "source": [
        "print(\"X_train shape: {}\".format(X_train.shape))\n",
        "print(\"X_test shape: {}\".format(X_test.shape))\n",
        "print(\"Y_train shape: {}\".format(Y_train.shape))\n",
        "print(\"Y_test shape: {}\".format(Y_test.shape))"
      ]
    },
    {
      "cell_type": "code",
      "execution_count": 10,
      "metadata": {
        "id": "5CmLIlx0rdsz"
      },
      "outputs": [],
      "source": [
        "classes = 10\n",
        "\n",
        "img_rows, img_cols, channels = 28, 28, 1\n",
        "\n",
        "filters = [6, 32, 80, 120]"
      ]
    },
    {
      "cell_type": "code",
      "execution_count": 11,
      "metadata": {
        "id": "zZl3IY9Zr8Ag"
      },
      "outputs": [],
      "source": [
        "from keras.models import Sequential\n",
        "from keras.layers import Dense, Conv2D, MaxPooling2D, Flatten"
      ]
    },
    {
      "cell_type": "code",
      "execution_count": 12,
      "metadata": {
        "colab": {
          "base_uri": "https://localhost:8080/"
        },
        "id": "l_Vk6uunsX_b",
        "outputId": "98f3ea96-0904-43a6-b012-279bf450af1b"
      },
      "outputs": [
        {
          "output_type": "stream",
          "name": "stdout",
          "text": [
            "Model: \"sequential\"\n",
            "_________________________________________________________________\n",
            " Layer (type)                Output Shape              Param #   \n",
            "=================================================================\n",
            " conv2d (Conv2D)             (None, 28, 28, 6)         60        \n",
            "                                                                 \n",
            " max_pooling2d (MaxPooling2  (None, 14, 14, 6)         0         \n",
            " D)                                                              \n",
            "                                                                 \n",
            " conv2d_1 (Conv2D)           (None, 14, 14, 32)        800       \n",
            "                                                                 \n",
            " max_pooling2d_1 (MaxPoolin  (None, 7, 7, 32)          0         \n",
            " g2D)                                                            \n",
            "                                                                 \n",
            " conv2d_2 (Conv2D)           (None, 7, 7, 80)          10320     \n",
            "                                                                 \n",
            " max_pooling2d_2 (MaxPoolin  (None, 3, 3, 80)          0         \n",
            " g2D)                                                            \n",
            "                                                                 \n",
            " conv2d_3 (Conv2D)           (None, 3, 3, 120)         38520     \n",
            "                                                                 \n",
            " max_pooling2d_3 (MaxPoolin  (None, 1, 1, 120)         0         \n",
            " g2D)                                                            \n",
            "                                                                 \n",
            " flatten (Flatten)           (None, 120)               0         \n",
            "                                                                 \n",
            " dense (Dense)               (None, 128)               15488     \n",
            "                                                                 \n",
            " dense_1 (Dense)             (None, 10)                1290      \n",
            "                                                                 \n",
            "=================================================================\n",
            "Total params: 66478 (259.68 KB)\n",
            "Trainable params: 66478 (259.68 KB)\n",
            "Non-trainable params: 0 (0.00 Byte)\n",
            "_________________________________________________________________\n"
          ]
        }
      ],
      "source": [
        "model = Sequential()\n",
        "\n",
        "model.add(Conv2D(filters[0],(3,3), padding=\"same\", activation=\"relu\", input_shape=(img_rows, img_cols, channels)))\n",
        "model.add(MaxPooling2D(pool_size=(2,2)))\n",
        "\n",
        "model.add(Conv2D(filters[1],(2,2), padding=\"same\", activation=\"relu\"))\n",
        "model.add(MaxPooling2D(pool_size=(2,2)))\n",
        "\n",
        "model.add(Conv2D(filters[2],(2,2), padding=\"same\", activation=\"relu\"))\n",
        "model.add(MaxPooling2D(pool_size=(2,2)))\n",
        "\n",
        "model.add(Conv2D(filters[3],(2,2), padding=\"same\", activation=\"relu\"))\n",
        "model.add(MaxPooling2D(pool_size=(2,2)))\n",
        "\n",
        "model.add(Flatten())\n",
        "\n",
        "model.add(Dense(128, activation=\"relu\"))\n",
        "model.add(Dense(classes, activation=\"softmax\"))\n",
        "\n",
        "model.compile(loss=\"categorical_crossentropy\", optimizer=\"sgd\", metrics=[\"accuracy\"])\n",
        "model.summary()"
      ]
    },
    {
      "cell_type": "code",
      "execution_count": 13,
      "metadata": {
        "colab": {
          "base_uri": "https://localhost:8080/"
        },
        "id": "COmZ-WbLulL4",
        "outputId": "e4369e13-1da8-4bb4-d657-cf8ae3029a16"
      },
      "outputs": [
        {
          "output_type": "stream",
          "name": "stdout",
          "text": [
            "Epoch 1/15\n",
            "938/938 [==============================] - 15s 6ms/step - loss: 1.7008 - accuracy: 0.4546\n",
            "Epoch 2/15\n",
            "938/938 [==============================] - 5s 5ms/step - loss: 0.3699 - accuracy: 0.8809\n",
            "Epoch 3/15\n",
            "938/938 [==============================] - 6s 6ms/step - loss: 0.2024 - accuracy: 0.9360\n",
            "Epoch 4/15\n",
            "938/938 [==============================] - 5s 5ms/step - loss: 0.1469 - accuracy: 0.9535\n",
            "Epoch 5/15\n",
            "938/938 [==============================] - 5s 5ms/step - loss: 0.1135 - accuracy: 0.9632\n",
            "Epoch 6/15\n",
            "938/938 [==============================] - 5s 5ms/step - loss: 0.0955 - accuracy: 0.9695\n",
            "Epoch 7/15\n",
            "938/938 [==============================] - 4s 5ms/step - loss: 0.0820 - accuracy: 0.9743\n",
            "Epoch 8/15\n",
            "938/938 [==============================] - 5s 5ms/step - loss: 0.0735 - accuracy: 0.9768\n",
            "Epoch 9/15\n",
            "938/938 [==============================] - 5s 5ms/step - loss: 0.0663 - accuracy: 0.9785\n",
            "Epoch 10/15\n",
            "938/938 [==============================] - 4s 5ms/step - loss: 0.0600 - accuracy: 0.9810\n",
            "Epoch 11/15\n",
            "938/938 [==============================] - 5s 5ms/step - loss: 0.0563 - accuracy: 0.9821\n",
            "Epoch 12/15\n",
            "938/938 [==============================] - 4s 5ms/step - loss: 0.0512 - accuracy: 0.9835\n",
            "Epoch 13/15\n",
            "938/938 [==============================] - 4s 5ms/step - loss: 0.0482 - accuracy: 0.9845\n",
            "Epoch 14/15\n",
            "938/938 [==============================] - 5s 5ms/step - loss: 0.0442 - accuracy: 0.9859\n",
            "Epoch 15/15\n",
            "938/938 [==============================] - 5s 5ms/step - loss: 0.0429 - accuracy: 0.9865\n",
            "Total time taken to train model is 81.52280020713806 sec\n"
          ]
        }
      ],
      "source": [
        "from time import time\n",
        "\n",
        "tic = time()\n",
        "\n",
        "model.fit(X_train, Y_train, batch_size=64, epochs=15, verbose=1)\n",
        "\n",
        "toc = time()\n",
        "\n",
        "print(\"Total time taken to train model is {} sec\".format(toc-tic))"
      ]
    },
    {
      "cell_type": "code",
      "execution_count": 14,
      "metadata": {
        "id": "S1MsaZ8RvrmF",
        "colab": {
          "base_uri": "https://localhost:8080/"
        },
        "outputId": "931bc837-3049-43dd-e3b9-ba91bbfa64f2"
      },
      "outputs": [
        {
          "output_type": "stream",
          "name": "stdout",
          "text": [
            "313/313 [==============================] - 1s 2ms/step\n",
            "Model Accuracy is 0.9842\n"
          ]
        }
      ],
      "source": [
        "from sklearn.metrics import accuracy_score\n",
        "\n",
        "pre = model.predict(X_test)\n",
        "pred = np.where(pre> 0.5, 1, 0)\n",
        "\n",
        "accuracy = accuracy_score(pred, Y_test)\n",
        "\n",
        "print(\"Model Accuracy is {}\".format(accuracy))\n",
        "\n"
      ]
    },
    {
      "cell_type": "code",
      "execution_count": 15,
      "metadata": {
        "id": "TYrKoFVfwyI2",
        "colab": {
          "base_uri": "https://localhost:8080/"
        },
        "outputId": "ec92fce8-74c6-4e52-acfc-7ff92c475ed4"
      },
      "outputs": [
        {
          "output_type": "stream",
          "name": "stdout",
          "text": [
            "1/1 [==============================] - 0s 115ms/step\n"
          ]
        }
      ],
      "source": [
        "mask = range(20,60)\n",
        "\n",
        "X_valid = X_test[30:50]\n",
        "\n",
        "prob = model.predict(X_valid)\n",
        "prediction = np.where(prob> 0.5, 1, 0)"
      ]
    },
    {
      "cell_type": "code",
      "execution_count": 16,
      "metadata": {
        "id": "LnU5pOktxUHk",
        "colab": {
          "base_uri": "https://localhost:8080/",
          "height": 245
        },
        "outputId": "6ad973c7-ecba-4d10-9758-b268da63f9dc"
      },
      "outputs": [
        {
          "output_type": "display_data",
          "data": {
            "text/plain": [
              "<Figure size 2000x400 with 40 Axes>"
            ],
            "image/png": "[encoded data removed]"
          },
          "metadata": {}
        }
      ],
      "source": [
        "n = len(X_valid)\n",
        "\n",
        "plt.figure(figsize=(20,4))\n",
        "\n",
        "for i in range(n):\n",
        "    ax = plt.subplot(2, n, i+1)\n",
        "    plt.imshow(X_valid[i].reshape(28,28))\n",
        "    ax.get_xaxis().set_visible(False)\n",
        "    ax.get_yaxis().set_visible(False)\n",
        "\n",
        "\n",
        "    digit = np.argmax(prediction[i])\n",
        "    plt.subplot(2,n,i+n+1)\n",
        "    plt.text(0.5,0.5,str(digit), fontsize=12, ha=\"center\", va=\"center\")\n",
        "    plt.axis(\"off\")\n",
        "\n",
        "\n",
        "plt.show()\n",
        "plt.close()"
      ]
    },
    {
      "cell_type": "code",
      "execution_count": null,
      "metadata": {
        "id": "aKhQbThKyp46"
      },
      "outputs": [],
      "source": []
    }
  ],
  "metadata": {
    "accelerator": "GPU",
    "colab": {
      "provenance": [],
      "authorship_tag": "ABX9TyPMZ8QG0NipwHpZOeYTzanq",
      "include_colab_link": true
    },
    "kernelspec": {
      "display_name": "Python 3",
      "name": "python3"
    },
    "language_info": {
      "name": "python"
    }
  },
  "nbformat": 4,
  "nbformat_minor": 0
}